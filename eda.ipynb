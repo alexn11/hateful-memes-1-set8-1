{
 "cells": [
  {
   "cell_type": "code",
   "execution_count": 2,
   "metadata": {},
   "outputs": [],
   "source": [
    "import pandas\n",
    "from matplotlib import pyplot"
   ]
  },
  {
   "cell_type": "code",
   "execution_count": 3,
   "metadata": {},
   "outputs": [],
   "source": [
    "train_data = pandas.read_json('data/train.jsonl', lines = True)"
   ]
  },
  {
   "cell_type": "code",
   "execution_count": 4,
   "metadata": {},
   "outputs": [
    {
     "name": "stdout",
     "output_type": "stream",
     "text": [
      "Train data: len = 8500\n"
     ]
    }
   ],
   "source": [
    "nb_train_items = len(train_data)\n",
    "print(f'Train data: len = {nb_train_items}')"
   ]
  },
  {
   "cell_type": "code",
   "execution_count": 5,
   "metadata": {},
   "outputs": [
    {
     "data": {
      "text/html": [
       "<div>\n",
       "<style scoped>\n",
       "    .dataframe tbody tr th:only-of-type {\n",
       "        vertical-align: middle;\n",
       "    }\n",
       "\n",
       "    .dataframe tbody tr th {\n",
       "        vertical-align: top;\n",
       "    }\n",
       "\n",
       "    .dataframe thead th {\n",
       "        text-align: right;\n",
       "    }\n",
       "</style>\n",
       "<table border=\"1\" class=\"dataframe\">\n",
       "  <thead>\n",
       "    <tr style=\"text-align: right;\">\n",
       "      <th></th>\n",
       "      <th>id</th>\n",
       "      <th>img</th>\n",
       "      <th>label</th>\n",
       "      <th>text</th>\n",
       "    </tr>\n",
       "  </thead>\n",
       "  <tbody>\n",
       "    <tr>\n",
       "      <th>1742</th>\n",
       "      <td>91786</td>\n",
       "      <td>img/91786.png</td>\n",
       "      <td>1</td>\n",
       "      <td>keeping your dishwasher clean will make it las...</td>\n",
       "    </tr>\n",
       "    <tr>\n",
       "      <th>3028</th>\n",
       "      <td>16543</td>\n",
       "      <td>img/16543.png</td>\n",
       "      <td>0</td>\n",
       "      <td>when you got somewhere to be but the sheep are...</td>\n",
       "    </tr>\n",
       "    <tr>\n",
       "      <th>6648</th>\n",
       "      <td>2576</td>\n",
       "      <td>img/02576.png</td>\n",
       "      <td>0</td>\n",
       "      <td>this is a snakes mouth it all makes fucking se...</td>\n",
       "    </tr>\n",
       "    <tr>\n",
       "      <th>981</th>\n",
       "      <td>7312</td>\n",
       "      <td>img/07312.png</td>\n",
       "      <td>0</td>\n",
       "      <td>yeah bitches totalinarism is a sham</td>\n",
       "    </tr>\n",
       "    <tr>\n",
       "      <th>5850</th>\n",
       "      <td>42613</td>\n",
       "      <td>img/42613.png</td>\n",
       "      <td>0</td>\n",
       "      <td>man buns you don't look like a samurai, you lo...</td>\n",
       "    </tr>\n",
       "    <tr>\n",
       "      <th>7481</th>\n",
       "      <td>79024</td>\n",
       "      <td>img/79024.png</td>\n",
       "      <td>1</td>\n",
       "      <td>good morning gamers let's go kill some trannies</td>\n",
       "    </tr>\n",
       "    <tr>\n",
       "      <th>3003</th>\n",
       "      <td>49106</td>\n",
       "      <td>img/49106.png</td>\n",
       "      <td>0</td>\n",
       "      <td>my goal for 2019 is to accomplish the goals of...</td>\n",
       "    </tr>\n",
       "    <tr>\n",
       "      <th>6661</th>\n",
       "      <td>48125</td>\n",
       "      <td>img/48125.png</td>\n",
       "      <td>1</td>\n",
       "      <td>damn it john, leave stevie alone</td>\n",
       "    </tr>\n",
       "    <tr>\n",
       "      <th>4153</th>\n",
       "      <td>46215</td>\n",
       "      <td>img/46215.png</td>\n",
       "      <td>0</td>\n",
       "      <td>you think that hoe thinks you're special lol s...</td>\n",
       "    </tr>\n",
       "    <tr>\n",
       "      <th>2096</th>\n",
       "      <td>49670</td>\n",
       "      <td>img/49670.png</td>\n",
       "      <td>1</td>\n",
       "      <td>covers his wife from head to toes because sexu...</td>\n",
       "    </tr>\n",
       "  </tbody>\n",
       "</table>\n",
       "</div>"
      ],
      "text/plain": [
       "         id            img  label  \\\n",
       "1742  91786  img/91786.png      1   \n",
       "3028  16543  img/16543.png      0   \n",
       "6648   2576  img/02576.png      0   \n",
       "981    7312  img/07312.png      0   \n",
       "5850  42613  img/42613.png      0   \n",
       "7481  79024  img/79024.png      1   \n",
       "3003  49106  img/49106.png      0   \n",
       "6661  48125  img/48125.png      1   \n",
       "4153  46215  img/46215.png      0   \n",
       "2096  49670  img/49670.png      1   \n",
       "\n",
       "                                                   text  \n",
       "1742  keeping your dishwasher clean will make it las...  \n",
       "3028  when you got somewhere to be but the sheep are...  \n",
       "6648  this is a snakes mouth it all makes fucking se...  \n",
       "981                 yeah bitches totalinarism is a sham  \n",
       "5850  man buns you don't look like a samurai, you lo...  \n",
       "7481    good morning gamers let's go kill some trannies  \n",
       "3003  my goal for 2019 is to accomplish the goals of...  \n",
       "6661                   damn it john, leave stevie alone  \n",
       "4153  you think that hoe thinks you're special lol s...  \n",
       "2096  covers his wife from head to toes because sexu...  "
      ]
     },
     "execution_count": 5,
     "metadata": {},
     "output_type": "execute_result"
    }
   ],
   "source": [
    "train_data.sample(10)"
   ]
  },
  {
   "cell_type": "code",
   "execution_count": 6,
   "metadata": {},
   "outputs": [
    {
     "name": "stdout",
     "output_type": "stream",
     "text": [
      "Positives: 3019, Negatives: 5481, Other labels: 0\n"
     ]
    }
   ],
   "source": [
    "nb_positives = (train_data.label == 1).sum()\n",
    "nb_negatives = (train_data.label == 0).sum()\n",
    "print(f'Positives: {nb_positives}, Negatives: {nb_negatives}, Other labels: {nb_train_items-nb_positives-nb_negatives}')"
   ]
  },
  {
   "cell_type": "code",
   "execution_count": 20,
   "metadata": {},
   "outputs": [
    {
     "name": "stdout",
     "output_type": "stream",
     "text": [
      "Baseline accuracy (most common class: 0): 0.6448235294117647\n"
     ]
    }
   ],
   "source": [
    "print(f'Baseline accuracy (most common class: 0): {nb_negatives / nb_train_items}')"
   ]
  },
  {
   "cell_type": "code",
   "execution_count": 7,
   "metadata": {},
   "outputs": [],
   "source": [
    "train_data['char_len'] = train_data.text.str.len()\n",
    "train_data['word_len'] = train_data.text.apply(lambda x : len(x.split()))"
   ]
  },
  {
   "cell_type": "code",
   "execution_count": 8,
   "metadata": {},
   "outputs": [
    {
     "data": {
      "image/png": "[encoded data removed]",
      "text/plain": [
       "<Figure size 432x288 with 2 Axes>"
      ]
     },
     "metadata": {
      "needs_background": "light"
     },
     "output_type": "display_data"
    }
   ],
   "source": [
    "positive_indexes = train_data.label == 1\n",
    "negative_indexes = train_data.label == 0\n",
    "train_data.hist(column = 'char_len', by = 'label', bins = 21)\n",
    "pyplot.show()"
   ]
  },
  {
   "cell_type": "code",
   "execution_count": 9,
   "metadata": {},
   "outputs": [
    {
     "data": {
      "image/png": "[encoded data removed]",
      "text/plain": [
       "<Figure size 432x288 with 2 Axes>"
      ]
     },
     "metadata": {
      "needs_background": "light"
     },
     "output_type": "display_data"
    }
   ],
   "source": [
    "train_data.hist(column = 'word_len', by = 'label', bins = 21)\n",
    "pyplot.show()"
   ]
  },
  {
   "cell_type": "code",
   "execution_count": 10,
   "metadata": {},
   "outputs": [],
   "source": [
    "from transformers import pipeline\n",
    "sentiment_classifier = pipeline('sentiment-analysis')\n",
    "train_data['sentiment_results'] = train_data.text.apply(sentiment_classifier)"
   ]
  },
  {
   "cell_type": "code",
   "execution_count": 11,
   "metadata": {},
   "outputs": [],
   "source": [
    "train_data['sentiment_label'] = train_data.sentiment_results.apply(lambda r : r[0]['label'])\n",
    "train_data['sentiment_score'] = train_data.sentiment_results.apply(lambda r : r[0]['score'])"
   ]
  },
  {
   "cell_type": "raw",
   "metadata": {},
   "source": [
    "train_data.drop(columns=['sentiment_results'], inplace = True)"
   ]
  },
  {
   "cell_type": "code",
   "execution_count": 13,
   "metadata": {},
   "outputs": [],
   "source": [
    "positive_sentiment_indexes = (train_data.sentiment_label == 'POSITIVE')\n",
    "negative_sentiment_indexes = (train_data.sentiment_label == 'NEGATIVE')\n",
    "nb_positive_sent_pos = (positive_indexes & positive_sentiment_indexes).sum()\n",
    "nb_positive_sent_neg = (positive_indexes & negative_sentiment_indexes).sum()\n",
    "nb_negative_sent_pos = (negative_indexes & positive_sentiment_indexes).sum()\n",
    "nb_negative_sent_neg = (negative_indexes & negative_sentiment_indexes).sum()"
   ]
  },
  {
   "cell_type": "code",
   "execution_count": 19,
   "metadata": {},
   "outputs": [
    {
     "name": "stdout",
     "output_type": "stream",
     "text": [
      "Sentiment analysis:\n",
      "       POS    NEG\n",
      " 1     763   2256\n",
      " 0    2006   3475\n",
      "\n",
      " Accuracy:0.5014117647058823\n"
     ]
    }
   ],
   "source": [
    "print('Sentiment analysis:')\n",
    "print('       POS    NEG')\n",
    "print(f' 1  {nb_positive_sent_pos:6d} {nb_positive_sent_neg:6d}')\n",
    "print(f' 0  {nb_negative_sent_pos:6d} {nb_negative_sent_neg:6d}')\n",
    "print(f'\\n Accuracy:{(nb_positive_sent_neg + nb_negative_sent_pos)/nb_train_items}')"
   ]
  },
  {
   "cell_type": "code",
   "execution_count": 21,
   "metadata": {},
   "outputs": [],
   "source": [
    "train_data.to_csv('eda/eda.csv', columns = ['id', 'sentiment_label', 'sentiment_score'], index = False)"
   ]
  },
  {
   "cell_type": "code",
   "execution_count": null,
   "metadata": {},
   "outputs": [],
   "source": []
  }
 ],
 "metadata": {
  "kernelspec": {
   "display_name": "Python 3",
   "language": "python",
   "name": "python3"
  },
  "language_info": {
   "codemirror_mode": {
    "name": "ipython",
    "version": 3
   },
   "file_extension": ".py",
   "mimetype": "text/x-python",
   "name": "python",
   "nbconvert_exporter": "python",
   "pygments_lexer": "ipython3",
   "version": "3.8.6"
  }
 },
 "nbformat": 4,
 "nbformat_minor": 4
}
